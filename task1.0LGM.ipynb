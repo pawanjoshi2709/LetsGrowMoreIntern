{
 "cells": [
  {
   "cell_type": "markdown",
   "id": "34a1a798-8b87-4c1c-a32b-b01704a150c3",
   "metadata": {
    "tags": []
   },
   "source": [
    "<h1><b>IRIS FLOWER CLASSIFICATION PROJECT</b></h1>"
   ]
  },
  {
   "cell_type": "markdown",
   "id": "f5ea586e-fdb8-4d24-a43c-706683eb5f71",
   "metadata": {},
   "source": [
    "The main objective of this project is to build and evaluate classification model to predict the species of IRIS flowers(Iris setosa,Iris versicolor,Iris virginic) based on their sepal length, sepal width, petal length, and petal width."
   ]
  },
  {
   "cell_type": "markdown",
   "id": "006df2ce-9710-4792-ba6f-e6354071d400",
   "metadata": {
    "jp-MarkdownHeadingCollapsed": true,
    "tags": []
   },
   "source": [
    "<h3>Dataset Information:</h3>"
   ]
  },
  {
   "cell_type": "markdown",
   "id": "505fa787-9254-4792-ad1c-9b83433613d1",
   "metadata": {},
   "source": [
    "\n",
    "<ul><li>The dataset contains 3 classes of 50 instances each, where each class refers to a type of Iris plant.</li>\n",
    "    <li>The dataset has no missing values</li></ul>"
   ]
  },
  {
   "cell_type": "markdown",
   "id": "8a797c80-3555-4451-8d83-d6222381a0aa",
   "metadata": {
    "jp-MarkdownHeadingCollapsed": true,
    "tags": []
   },
   "source": [
    "<h3>Attribute Information:</h3>"
   ]
  },
  {
   "cell_type": "markdown",
   "id": "862a0dac-bdd9-4b02-86d8-6f57ea14c98f",
   "metadata": {},
   "source": [
    "<ul><li>Sepal length in cm</li>\n",
    "    <li>Sepal width in cm</li>\n",
    "    <li>Petal length in cm</li>\n",
    "    <li>Petal width in cm</li>\n",
    "</ul>"
   ]
  },
  {
   "cell_type": "markdown",
   "id": "1ddb94c6-7f05-48cd-ba7c-b019620388fa",
   "metadata": {
    "tags": []
   },
   "source": [
    "<h3>Class:</h3>"
   ]
  },
  {
   "cell_type": "markdown",
   "id": "fd15291d-cf41-4bb2-8839-373144f3cf43",
   "metadata": {},
   "source": [
    "<ul><li>Iris Setosa</li>\n",
    "    <li>Iris Versicolor</li>\n",
    "    <li>Iris Virginica</li></ul>"
   ]
  },
  {
   "cell_type": "markdown",
   "id": "d622f7d7-d33a-462b-ad57-3d8af1815182",
   "metadata": {
    "tags": []
   },
   "source": [
    "\n",
    "<h3><a href=\"http://archive.ics.uci.edu/dataset/53/iris\">Iris flower dataset link</a></h3>\n"
   ]
  },
  {
   "cell_type": "markdown",
   "id": "84641b71-c804-4d54-8df9-bf4e43cf6dde",
   "metadata": {
    "jp-MarkdownHeadingCollapsed": true,
    "tags": []
   },
   "source": [
    "<h2>Data requirements</h2>"
   ]
  },
  {
   "cell_type": "code",
   "execution_count": 1,
   "id": "199b516f-3506-4b71-bc9c-230f976beb35",
   "metadata": {},
   "outputs": [],
   "source": [
    "# Import Packages\n",
    "import numpy as np\n",
    "import matplotlib.pyplot as plt\n",
    "import seaborn as sns\n",
    "import pandas as pd\n",
    "from sklearn.model_selection import train_test_split\n",
    "from sklearn.linear_model import LogisticRegression\n",
    "from sklearn.metrics import confusion_matrix,accuracy_score,classification_report\n",
    "from sklearn.metrics import r2_score,mean_absolute_error,mean_squared_error\n",
    "from sklearn.preprocessing import LabelEncoder\n",
    "import warnings\n",
    "warnings.filterwarnings('ignore')\n",
    "%matplotlib inline"
   ]
  },
  {
   "cell_type": "code",
   "execution_count": 2,
   "id": "1f97d528-74bf-42f6-8d12-61a3740330f7",
   "metadata": {},
   "outputs": [
    {
     "data": {
      "text/html": [
       "<div>\n",
       "<style scoped>\n",
       "    .dataframe tbody tr th:only-of-type {\n",
       "        vertical-align: middle;\n",
       "    }\n",
       "\n",
       "    .dataframe tbody tr th {\n",
       "        vertical-align: top;\n",
       "    }\n",
       "\n",
       "    .dataframe thead th {\n",
       "        text-align: right;\n",
       "    }\n",
       "</style>\n",
       "<table border=\"1\" class=\"dataframe\">\n",
       "  <thead>\n",
       "    <tr style=\"text-align: right;\">\n",
       "      <th></th>\n",
       "      <th>Id</th>\n",
       "      <th>SepalLengthCm</th>\n",
       "      <th>SepalWidthCm</th>\n",
       "      <th>PetalLengthCm</th>\n",
       "      <th>PetalWidthCm</th>\n",
       "      <th>Species</th>\n",
       "    </tr>\n",
       "  </thead>\n",
       "  <tbody>\n",
       "    <tr>\n",
       "      <th>0</th>\n",
       "      <td>1</td>\n",
       "      <td>5.1</td>\n",
       "      <td>3.5</td>\n",
       "      <td>1.4</td>\n",
       "      <td>0.2</td>\n",
       "      <td>Iris-setosa</td>\n",
       "    </tr>\n",
       "    <tr>\n",
       "      <th>1</th>\n",
       "      <td>2</td>\n",
       "      <td>4.9</td>\n",
       "      <td>3.0</td>\n",
       "      <td>1.4</td>\n",
       "      <td>0.2</td>\n",
       "      <td>Iris-setosa</td>\n",
       "    </tr>\n",
       "    <tr>\n",
       "      <th>2</th>\n",
       "      <td>3</td>\n",
       "      <td>4.7</td>\n",
       "      <td>3.2</td>\n",
       "      <td>1.3</td>\n",
       "      <td>0.2</td>\n",
       "      <td>Iris-setosa</td>\n",
       "    </tr>\n",
       "    <tr>\n",
       "      <th>3</th>\n",
       "      <td>4</td>\n",
       "      <td>4.6</td>\n",
       "      <td>3.1</td>\n",
       "      <td>1.5</td>\n",
       "      <td>0.2</td>\n",
       "      <td>Iris-setosa</td>\n",
       "    </tr>\n",
       "    <tr>\n",
       "      <th>4</th>\n",
       "      <td>5</td>\n",
       "      <td>5.0</td>\n",
       "      <td>3.6</td>\n",
       "      <td>1.4</td>\n",
       "      <td>0.2</td>\n",
       "      <td>Iris-setosa</td>\n",
       "    </tr>\n",
       "  </tbody>\n",
       "</table>\n",
       "</div>"
      ],
      "text/plain": [
       "   Id  SepalLengthCm  SepalWidthCm  PetalLengthCm  PetalWidthCm      Species\n",
       "0   1            5.1           3.5            1.4           0.2  Iris-setosa\n",
       "1   2            4.9           3.0            1.4           0.2  Iris-setosa\n",
       "2   3            4.7           3.2            1.3           0.2  Iris-setosa\n",
       "3   4            4.6           3.1            1.5           0.2  Iris-setosa\n",
       "4   5            5.0           3.6            1.4           0.2  Iris-setosa"
      ]
     },
     "execution_count": 2,
     "metadata": {},
     "output_type": "execute_result"
    }
   ],
   "source": [
    "#read dataset from internal storage and converting into dataframe\n",
    "df = pd.read_csv(\"Iris.csv\")\n",
    "df.head()"
   ]
  },
  {
   "cell_type": "markdown",
   "id": "aba26b21-38eb-4faf-b667-8fe81ce7cc7d",
   "metadata": {
    "jp-MarkdownHeadingCollapsed": true,
    "tags": []
   },
   "source": [
    "<h2>Data Prepration</h2>"
   ]
  },
  {
   "cell_type": "markdown",
   "id": "4fdce655-e60b-492a-bacc-fffdf259ffeb",
   "metadata": {
    "jp-MarkdownHeadingCollapsed": true,
    "tags": []
   },
   "source": [
    "<ul><li><h3>EDA (Exploratory Data Analysis)</h3></li></ul>"
   ]
  },
  {
   "cell_type": "code",
   "execution_count": 3,
   "id": "ddfffb9f-20d8-426f-9624-ad8c8313236a",
   "metadata": {},
   "outputs": [
    {
     "data": {
      "text/plain": [
       "Index(['Id', 'SepalLengthCm', 'SepalWidthCm', 'PetalLengthCm', 'PetalWidthCm',\n",
       "       'Species'],\n",
       "      dtype='object')"
      ]
     },
     "execution_count": 3,
     "metadata": {},
     "output_type": "execute_result"
    }
   ],
   "source": [
    "#checking all the features of dataset\n",
    "df.keys()"
   ]
  },
  {
   "cell_type": "code",
   "execution_count": 4,
   "id": "7139cced-5fee-4a9d-bd3b-b8ad6f8ec312",
   "metadata": {},
   "outputs": [
    {
     "data": {
      "text/plain": [
       "array(['Iris-setosa', 'Iris-versicolor', 'Iris-virginica'], dtype=object)"
      ]
     },
     "execution_count": 4,
     "metadata": {},
     "output_type": "execute_result"
    }
   ],
   "source": [
    "#checking the output variable\n",
    "df['Species'].unique()"
   ]
  },
  {
   "cell_type": "code",
   "execution_count": 5,
   "id": "11896f54-8740-4477-95f0-d115250fa9a8",
   "metadata": {},
   "outputs": [
    {
     "data": {
      "text/plain": [
       "(150, 6)"
      ]
     },
     "execution_count": 5,
     "metadata": {},
     "output_type": "execute_result"
    }
   ],
   "source": [
    "#shape of dataset \n",
    "df.shape"
   ]
  },
  {
   "cell_type": "code",
   "execution_count": 6,
   "id": "07f76692-0942-4379-816e-ec53fd423e05",
   "metadata": {},
   "outputs": [
    {
     "name": "stdout",
     "output_type": "stream",
     "text": [
      "<class 'pandas.core.frame.DataFrame'>\n",
      "RangeIndex: 150 entries, 0 to 149\n",
      "Data columns (total 6 columns):\n",
      " #   Column         Non-Null Count  Dtype  \n",
      "---  ------         --------------  -----  \n",
      " 0   Id             150 non-null    int64  \n",
      " 1   SepalLengthCm  150 non-null    float64\n",
      " 2   SepalWidthCm   150 non-null    float64\n",
      " 3   PetalLengthCm  150 non-null    float64\n",
      " 4   PetalWidthCm   150 non-null    float64\n",
      " 5   Species        150 non-null    object \n",
      "dtypes: float64(4), int64(1), object(1)\n",
      "memory usage: 7.2+ KB\n"
     ]
    }
   ],
   "source": [
    "#information about the dataframe\n",
    "df.info()"
   ]
  },
  {
   "cell_type": "code",
   "execution_count": 7,
   "id": "2754a2db-cfe5-4116-8b0b-b8aa5552ef87",
   "metadata": {},
   "outputs": [
    {
     "data": {
      "text/html": [
       "<div>\n",
       "<style scoped>\n",
       "    .dataframe tbody tr th:only-of-type {\n",
       "        vertical-align: middle;\n",
       "    }\n",
       "\n",
       "    .dataframe tbody tr th {\n",
       "        vertical-align: top;\n",
       "    }\n",
       "\n",
       "    .dataframe thead th {\n",
       "        text-align: right;\n",
       "    }\n",
       "</style>\n",
       "<table border=\"1\" class=\"dataframe\">\n",
       "  <thead>\n",
       "    <tr style=\"text-align: right;\">\n",
       "      <th></th>\n",
       "      <th>Id</th>\n",
       "      <th>SepalLengthCm</th>\n",
       "      <th>SepalWidthCm</th>\n",
       "      <th>PetalLengthCm</th>\n",
       "      <th>PetalWidthCm</th>\n",
       "    </tr>\n",
       "  </thead>\n",
       "  <tbody>\n",
       "    <tr>\n",
       "      <th>count</th>\n",
       "      <td>150.000000</td>\n",
       "      <td>150.000000</td>\n",
       "      <td>150.000000</td>\n",
       "      <td>150.000000</td>\n",
       "      <td>150.000000</td>\n",
       "    </tr>\n",
       "    <tr>\n",
       "      <th>mean</th>\n",
       "      <td>75.500000</td>\n",
       "      <td>5.843333</td>\n",
       "      <td>3.054000</td>\n",
       "      <td>3.758667</td>\n",
       "      <td>1.198667</td>\n",
       "    </tr>\n",
       "    <tr>\n",
       "      <th>std</th>\n",
       "      <td>43.445368</td>\n",
       "      <td>0.828066</td>\n",
       "      <td>0.433594</td>\n",
       "      <td>1.764420</td>\n",
       "      <td>0.763161</td>\n",
       "    </tr>\n",
       "    <tr>\n",
       "      <th>min</th>\n",
       "      <td>1.000000</td>\n",
       "      <td>4.300000</td>\n",
       "      <td>2.000000</td>\n",
       "      <td>1.000000</td>\n",
       "      <td>0.100000</td>\n",
       "    </tr>\n",
       "    <tr>\n",
       "      <th>25%</th>\n",
       "      <td>38.250000</td>\n",
       "      <td>5.100000</td>\n",
       "      <td>2.800000</td>\n",
       "      <td>1.600000</td>\n",
       "      <td>0.300000</td>\n",
       "    </tr>\n",
       "    <tr>\n",
       "      <th>50%</th>\n",
       "      <td>75.500000</td>\n",
       "      <td>5.800000</td>\n",
       "      <td>3.000000</td>\n",
       "      <td>4.350000</td>\n",
       "      <td>1.300000</td>\n",
       "    </tr>\n",
       "    <tr>\n",
       "      <th>75%</th>\n",
       "      <td>112.750000</td>\n",
       "      <td>6.400000</td>\n",
       "      <td>3.300000</td>\n",
       "      <td>5.100000</td>\n",
       "      <td>1.800000</td>\n",
       "    </tr>\n",
       "    <tr>\n",
       "      <th>max</th>\n",
       "      <td>150.000000</td>\n",
       "      <td>7.900000</td>\n",
       "      <td>4.400000</td>\n",
       "      <td>6.900000</td>\n",
       "      <td>2.500000</td>\n",
       "    </tr>\n",
       "  </tbody>\n",
       "</table>\n",
       "</div>"
      ],
      "text/plain": [
       "               Id  SepalLengthCm  SepalWidthCm  PetalLengthCm  PetalWidthCm\n",
       "count  150.000000     150.000000    150.000000     150.000000    150.000000\n",
       "mean    75.500000       5.843333      3.054000       3.758667      1.198667\n",
       "std     43.445368       0.828066      0.433594       1.764420      0.763161\n",
       "min      1.000000       4.300000      2.000000       1.000000      0.100000\n",
       "25%     38.250000       5.100000      2.800000       1.600000      0.300000\n",
       "50%     75.500000       5.800000      3.000000       4.350000      1.300000\n",
       "75%    112.750000       6.400000      3.300000       5.100000      1.800000\n",
       "max    150.000000       7.900000      4.400000       6.900000      2.500000"
      ]
     },
     "execution_count": 7,
     "metadata": {},
     "output_type": "execute_result"
    }
   ],
   "source": [
    "#description of  data in a dataframe\n",
    "df.describe()"
   ]
  },
  {
   "cell_type": "code",
   "execution_count": 8,
   "id": "5727de67-9d66-4388-bd7b-364fe96384ee",
   "metadata": {},
   "outputs": [
    {
     "data": {
      "text/plain": [
       "<AxesSubplot: ylabel='Species'>"
      ]
     },
     "execution_count": 8,
     "metadata": {},
     "output_type": "execute_result"
    },
    {
     "data": {
      "image/png": "[encoded data removed]",
      "text/plain": [
       "<Figure size 640x480 with 1 Axes>"
      ]
     },
     "metadata": {},
     "output_type": "display_data"
    }
   ],
   "source": [
    "df['Species'].value_counts().plot(kind='pie',autopct='%0.1f%%')"
   ]
  },
  {
   "cell_type": "code",
   "execution_count": 9,
   "id": "ff9323a3-8a82-433a-99c3-2168b4863959",
   "metadata": {},
   "outputs": [
    {
     "data": {
      "image/png": "[encoded data removed]",
      "text/plain": [
       "<Figure size 640x480 with 1 Axes>"
      ]
     },
     "metadata": {},
     "output_type": "display_data"
    }
   ],
   "source": [
    "plt.hist(df.Species)\n",
    "plt.xlabel('Species')\n",
    "plt.ylabel('Frequency')\n",
    "plt.show()"
   ]
  },
  {
   "cell_type": "code",
   "execution_count": null,
   "id": "454741a7-8f78-4d97-8812-65e76403efb8",
   "metadata": {},
   "outputs": [],
   "source": [
    "sns.pairplot(df, hue='Species')"
   ]
  },
  {
   "cell_type": "markdown",
   "id": "2f597634-7428-42ec-a368-31b2ebc99c2f",
   "metadata": {
    "tags": []
   },
   "source": [
    "<h4>result of eda</h4>"
   ]
  },
  {
   "cell_type": "markdown",
   "id": "7c96b3a1-822a-40e7-8388-4074cbe03ca9",
   "metadata": {
    "jp-MarkdownHeadingCollapsed": true,
    "tags": []
   },
   "source": [
    "\n",
    "<ul><li>Data have only one categorial feature('Species')</li>\n",
    "    <li>There is no use of ID column so drop it</li>\n",
    "    <li>There is no missing value</li>\n",
    "    <li>The three species shows in pairplot are easily identify because of cluster are not overlapped so much </li></ul>"
   ]
  },
  {
   "cell_type": "markdown",
   "id": "f1afed25-3b84-4557-92c7-10d205c58f23",
   "metadata": {
    "jp-MarkdownHeadingCollapsed": true,
    "tags": []
   },
   "source": [
    "<ul><li><h3>Feature Engineering and Selection</h3></li></ul>"
   ]
  },
  {
   "cell_type": "code",
   "execution_count": null,
   "id": "35a6633d-6ce0-41ac-a3fa-5c8bf5b2b801",
   "metadata": {},
   "outputs": [],
   "source": [
    "#drop id \n",
    "df.drop(['Id'], axis=1,inplace=True)"
   ]
  },
  {
   "cell_type": "code",
   "execution_count": null,
   "id": "009465f8-8179-425d-8464-19e769f1d482",
   "metadata": {},
   "outputs": [],
   "source": [
    "#checking missing values\n",
    "df.isnull().sum()"
   ]
  },
  {
   "cell_type": "code",
   "execution_count": null,
   "id": "6f14f86c-5aee-433c-bc97-77cbc0a272ba",
   "metadata": {},
   "outputs": [],
   "source": [
    "#checking duplicate records\n",
    "df[df.duplicated()]"
   ]
  },
  {
   "cell_type": "code",
   "execution_count": null,
   "id": "caa488be-6763-4c99-83f5-3a3fb34a0268",
   "metadata": {},
   "outputs": [],
   "source": [
    "#delete the duplicate value \n",
    "df.drop_duplicates()\n"
   ]
  },
  {
   "cell_type": "code",
   "execution_count": null,
   "id": "f5017c07-1732-4600-b701-80d27ad7182f",
   "metadata": {},
   "outputs": [],
   "source": [
    "df.shape"
   ]
  },
  {
   "cell_type": "code",
   "execution_count": null,
   "id": "d6618d94-f3b4-461f-ba76-a77592ba4719",
   "metadata": {},
   "outputs": [],
   "source": [
    "df.reset_index(drop=True)"
   ]
  },
  {
   "cell_type": "code",
   "execution_count": null,
   "id": "25d9ff16-43c4-4d18-b192-4a04375c5668",
   "metadata": {},
   "outputs": [],
   "source": [
    "df['Species'].value_counts()"
   ]
  },
  {
   "cell_type": "code",
   "execution_count": null,
   "id": "a7064725-a9fe-47cd-8ba7-cc2fc951083c",
   "metadata": {},
   "outputs": [],
   "source": [
    "#Change the output categorial  feature into numerical \n",
    "encoder = LabelEncoder()\n",
    "df['Species']=encoder.fit_transform(df['Species'])"
   ]
  },
  {
   "cell_type": "code",
   "execution_count": null,
   "id": "550ca124-1c3e-4424-ac4a-1465d650a275",
   "metadata": {},
   "outputs": [],
   "source": [
    "df"
   ]
  },
  {
   "cell_type": "code",
   "execution_count": null,
   "id": "b1c7e46c-a861-421d-a9b9-a86529e9ee32",
   "metadata": {},
   "outputs": [],
   "source": [
    "#cheaking the correlation \n",
    "sns.heatmap(df.corr(),annot=True)"
   ]
  },
  {
   "cell_type": "code",
   "execution_count": null,
   "id": "8958b50a-cc5b-4826-9707-ce0889e430e3",
   "metadata": {},
   "outputs": [],
   "source": [
    "# convert it into a independent and dependent features\n",
    "X=df.drop(labels=['Species'],axis=1)\n",
    "Y=df[['Species']]"
   ]
  },
  {
   "cell_type": "code",
   "execution_count": null,
   "id": "8f3c057e-da94-4bf7-a33c-30527873758e",
   "metadata": {},
   "outputs": [],
   "source": [
    "df.keys()"
   ]
  },
  {
   "cell_type": "code",
   "execution_count": null,
   "id": "14778bed-fbbe-48ba-bfc8-6287d81e07a7",
   "metadata": {},
   "outputs": [],
   "source": [
    "#Calculating average of each features for all classes\n",
    "data = df.values\n",
    "x1 = data[:,0:4]\n",
    "y1 = data[:,4]\n",
    "columns=['SepalLengthCm', 'SepalWidthCm', 'PetalLengthCm', 'PetalWidthCm',\n",
    "       'Species']\n",
    "Y_Data = np.array([np.average(x1[:, i][y1==j].astype('float32')) for i in range (x1.shape[1])\n",
    " for j in (np.unique(y1))])\n",
    "Y_Data_reshaped = Y_Data.reshape(4, 3)\n",
    "Y_Data_reshaped = np.swapaxes(Y_Data_reshaped, 0, 1)\n",
    "X_axis = np.arange(len(columns)-1)\n",
    "width = 0.25"
   ]
  },
  {
   "cell_type": "code",
   "execution_count": null,
   "id": "d449dadb-9c4d-41d7-91b3-a851a2c13b78",
   "metadata": {},
   "outputs": [],
   "source": [
    "# Plot the average\n",
    "plt.bar(X_axis, Y_Data_reshaped[0], width, label = 'Setosa')\n",
    "plt.bar(X_axis+width, Y_Data_reshaped[1], width, label = 'Versicolour')\n",
    "plt.bar(X_axis+width*2, Y_Data_reshaped[2], width, label = 'Virginica')\n",
    "plt.xticks(X_axis, columns[:4])\n",
    "plt.xlabel(\"Features\")\n",
    "plt.ylabel(\"Value in cm.\")\n",
    "plt.legend(bbox_to_anchor=(1.3,1))\n",
    "plt.show()"
   ]
  },
  {
   "cell_type": "markdown",
   "id": "4fdd3a6a-268d-4862-a8e5-5bbcbaa984ce",
   "metadata": {
    "tags": []
   },
   "source": [
    "<h4>Result of Feature Engineering and Selection</h4>"
   ]
  },
  {
   "cell_type": "markdown",
   "id": "a6f2d4ef-803b-4779-ad95-a9ad9e73432e",
   "metadata": {},
   "source": [
    "<ul><li>All the independent feature is highly and medium correlated with dependent feature</li>\n",
    "    <li>Duplicate value is removed and convert dependent feature into numeric values</li></ul>"
   ]
  },
  {
   "cell_type": "markdown",
   "id": "1b697933-20c8-4fdc-bd68-a33f2bd8687e",
   "metadata": {
    "jp-MarkdownHeadingCollapsed": true,
    "tags": []
   },
   "source": [
    "<h2>Model Training</h2>"
   ]
  },
  {
   "cell_type": "code",
   "execution_count": null,
   "id": "69a86102-8065-45e0-aad3-ec0657d80d10",
   "metadata": {},
   "outputs": [],
   "source": [
    "# split data into train and test \n",
    "X_train,X_test,y_train,y_test=train_test_split(X,Y,test_size=0.20,random_state=42)"
   ]
  },
  {
   "cell_type": "code",
   "execution_count": null,
   "id": "3613782e-4d64-49b1-98fe-15802f3fa0cd",
   "metadata": {},
   "outputs": [],
   "source": [
    "#using Logistic regression \n",
    "model = LogisticRegression()\n",
    "model.fit(X_train,y_train)"
   ]
  },
  {
   "cell_type": "code",
   "execution_count": null,
   "id": "2d430103-d63a-4399-9994-baebc72f2dac",
   "metadata": {},
   "outputs": [],
   "source": [
    "# Make predictions on the test sets\n",
    "y_pred = model.predict(X_test)"
   ]
  },
  {
   "cell_type": "code",
   "execution_count": null,
   "id": "2fc0f272-e469-4def-ad3f-bcf0f0e18b42",
   "metadata": {},
   "outputs": [],
   "source": [
    "#print all the parameters \n",
    "print('Model Training Performance')\n",
    "print(\"RMSE:\",np.sqrt(mean_squared_error(y_test,y_pred)))\n",
    "print(\"MAE:\",mean_absolute_error(y_test,y_pred))\n",
    "print(\"R2 score\",r2_score(y_test,y_pred)*100)\n",
    "print(\"confusion_matrix\",confusion_matrix(y_test,y_pred))\n",
    "print(\"accuracy_score\",accuracy_score(y_test,y_pred))\n",
    "print(classification_report(y_test,y_pred))"
   ]
  },
  {
   "cell_type": "markdown",
   "id": "52a62b19-dbe8-4ad1-a605-0b8e2722efe2",
   "metadata": {},
   "source": [
    "<h4>Result of Model Training</h4>"
   ]
  },
  {
   "cell_type": "markdown",
   "id": "32f1e087-aaa0-4bd4-a8af-b35bde70d748",
   "metadata": {},
   "source": [
    "<ul><li>Their is  approx 0.0 error during testing of model</li>\n",
    "    <li>Model accuracy and r2_score is 1.0 and 100.0 approx</li></ul>\n",
    "    "
   ]
  },
  {
   "cell_type": "markdown",
   "id": "41f6989b-8ec6-4f60-8324-bf0ada13c87a",
   "metadata": {
    "jp-MarkdownHeadingCollapsed": true,
    "tags": []
   },
   "source": [
    "<h2>Model Prediction</h2>"
   ]
  },
  {
   "cell_type": "code",
   "execution_count": null,
   "id": "ab1dd059-fdb8-4c0e-9185-ff9fcf630bab",
   "metadata": {},
   "outputs": [],
   "source": [
    "# Creating a array 'new_data 'and predict it.\n",
    "new_data = np.array([[3, 2, 1, 0.2], [  4.9, 2.2, 3.8, 1.1 ], [  5.3, 2.5, 4.6, 1.9 ]])\n",
    "prediction = model.predict(new_data)\n",
    "print(\"Prediction of Species: {}\".format(predicted_label))"
   ]
  },
  {
   "cell_type": "code",
   "execution_count": null,
   "id": "b9bdffd7-4511-4c4d-b604-625a47b24060",
   "metadata": {},
   "outputs": [],
   "source": [
    "# prediction into original name.\n",
    "new_data = np.array([[3, 2, 1, 0.2], [  4.9, 2.2, 3.8, 1.1 ], [  5.3, 2.5, 4.6, 1.9 ]])\n",
    "prediction = model.predict(new_data)\n",
    "predicted_label = encoder.inverse_transform(prediction)\n",
    "print(\"Prediction of Species: {}\".format(predicted_label))"
   ]
  },
  {
   "cell_type": "markdown",
   "id": "e8a30782-c505-4562-baab-a23743f1fdda",
   "metadata": {
    "tags": []
   },
   "source": [
    "<h4>result of Model Prediction</h4>"
   ]
  },
  {
   "cell_type": "markdown",
   "id": "89037d44-58c4-4018-b08e-ba26521044fc",
   "metadata": {},
   "source": [
    "<ul><li>Model predict the correct prediction</li>\n",
    "    <li>We also reverse the label encoding to get orginal species name</li></ul>"
   ]
  },
  {
   "cell_type": "markdown",
   "id": "417b55d6-d6d6-411c-81bf-b709a27ba0f4",
   "metadata": {
    "tags": []
   },
   "source": [
    "<h2>Conclusion</h2>"
   ]
  },
  {
   "cell_type": "markdown",
   "id": "e4271d3e-abf9-48aa-b2bf-6a5de723a1a6",
   "metadata": {},
   "source": [
    "<b>Iris flower classification project is a good project and this model gives approx 100.0% r2_score and there is approx 0.0 % error during testing. The prediction for the new sample is approx 100% accurate by this we conclude that the model is able to capture the underlying patterns in the data (low bias) and is not too sensitive to changes in the training data (low variance).Hence the model accuracy is very high and we use this model for prediction.</b>"
   ]
  },
  {
   "cell_type": "code",
   "execution_count": null,
   "id": "510ad5d7-1aab-4042-aab6-ce667590d79c",
   "metadata": {},
   "outputs": [],
   "source": []
  }
 ],
 "metadata": {
  "kernelspec": {
   "display_name": "Python 3 (ipykernel)",
   "language": "python",
   "name": "python3"
  },
  "language_info": {
   "codemirror_mode": {
    "name": "ipython",
    "version": 3
   },
   "file_extension": ".py",
   "mimetype": "text/x-python",
   "name": "python",
   "nbconvert_exporter": "python",
   "pygments_lexer": "ipython3",
   "version": "3.10.8"
  }
 },
 "nbformat": 4,
 "nbformat_minor": 5
}
